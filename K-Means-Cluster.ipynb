{
 "cells": [
  {
   "cell_type": "code",
   "execution_count": 6,
   "metadata": {
    "scrolled": true
   },
   "outputs": [
    {
     "data": {
      "image/png": "[encoded data removed]",
      "text/plain": [
       "<Figure size 360x360 with 1 Axes>"
      ]
     },
     "metadata": {
      "needs_background": "light"
     },
     "output_type": "display_data"
    }
   ],
   "source": [
    "# Initialitation\n",
    "\n",
    "import pandas as pd\n",
    "import numpy as np\n",
    "import matplotlib.pyplot as plt\n",
    "%matplotlib inline\n",
    "\n",
    "df = pd.DataFrame({\n",
    "    'x':[12,20,28,18,29,33,24,45,45,52,51,52,55,53,55,61,64,69,72],\n",
    "    'y':[39,36,30,52,54,46,55,59,63,70,66,63,58,23,14,8,19,7,24]\n",
    "})\n",
    "\n",
    "np.random.seed(200)\n",
    "k=3\n",
    "centroids = {\n",
    "    i+1:[np.random.randint(0, 80), np.random.randint(0,80)]\n",
    "    for i in range(k)\n",
    "}\n",
    "\n",
    "fig = plt.figure(figsize=(5,5))\n",
    "plt.scatter(df['x'], df['y'], color='k')\n",
    "colmap = {1:'r', 2:'g', 3:'b'}\n",
    "for i in centroids.keys():\n",
    "    plt.scatter(*centroids[i], color=colmap[i])\n",
    "plt.xlim(0,80)\n",
    "plt.ylim(0,80)\n",
    "plt.show()"
   ]
  },
  {
   "cell_type": "code",
   "execution_count": 24,
   "metadata": {},
   "outputs": [
    {
     "name": "stdout",
     "output_type": "stream",
     "text": [
      "n cluster = 2\n"
     ]
    },
    {
     "data": {
      "image/png": "[encoded data removed]",
      "text/plain": [
       "<Figure size 360x360 with 1 Axes>"
      ]
     },
     "metadata": {
      "needs_background": "light"
     },
     "output_type": "display_data"
    }
   ],
   "source": [
    "import pandas as pd\n",
    "import numpy as np\n",
    "import matplotlib.pyplot as plt\n",
    "\n",
    "df = pd.DataFrame({\n",
    "    'x':[12,20,28,18,29,33,24,45,45,52,51,52,55,53,55,61,64,69,72],\n",
    "    'y':[39,36,30,52,54,46,55,59,63,70,66,63,58,23,14,8,19,7,24]\n",
    "})\n",
    "\n",
    "from sklearn.cluster import KMeans\n",
    "kmeans = KMeans(n_clusters=2)\n",
    "kmeans.fit(df)\n",
    "\n",
    "labels = kmeans.predict(df)\n",
    "centroids = kmeans.cluster_centers_\n",
    "\n",
    "colmap = {1:'r', 2:'b'}\n",
    "\n",
    "fig = plt.figure(figsize=(5,5))\n",
    "colors = map(lambda x: colmap[x+1], labels)\n",
    "listColors = list(colors)\n",
    "plt.scatter(df['x'], df['y'], color=listColors, alpha=0.5, edgecolor='k')\n",
    "for idx, centroid in enumerate(centroids):\n",
    "  plt.scatter(*centroid, color=colmap[idx+1])\n",
    "plt.xlim(0,100)\n",
    "plt.ylim(0,100)\n",
    "\n",
    "print ('n cluster = 2')\n",
    "plt.show()"
   ]
  },
  {
   "cell_type": "code",
   "execution_count": null,
   "metadata": {},
   "outputs": [],
   "source": []
  }
 ],
 "metadata": {
  "kernelspec": {
   "display_name": "Python 3",
   "language": "python",
   "name": "python3"
  },
  "language_info": {
   "codemirror_mode": {
    "name": "ipython",
    "version": 3
   },
   "file_extension": ".py",
   "mimetype": "text/x-python",
   "name": "python",
   "nbconvert_exporter": "python",
   "pygments_lexer": "ipython3",
   "version": "3.7.4"
  }
 },
 "nbformat": 4,
 "nbformat_minor": 2
}
